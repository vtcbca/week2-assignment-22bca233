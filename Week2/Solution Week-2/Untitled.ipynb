{
 "cells": [
  {
   "cell_type": "code",
   "execution_count": 8,
   "id": "4ae61ea5",
   "metadata": {},
   "outputs": [],
   "source": [
    "import sqlite3"
   ]
  },
  {
   "cell_type": "markdown",
   "id": "d70fe99b",
   "metadata": {},
   "source": [
    "create connection with sqlite and create database named \"student.db\""
   ]
  },
  {
   "cell_type": "code",
   "execution_count": 9,
   "id": "61ad6536",
   "metadata": {},
   "outputs": [],
   "source": [
    "con = sqlite3.connect(\"student.db\")"
   ]
  },
  {
   "cell_type": "markdown",
   "id": "672c60ba",
   "metadata": {},
   "source": [
    "create cursor on con object"
   ]
  },
  {
   "cell_type": "code",
   "execution_count": 10,
   "id": "fe2a4bf6",
   "metadata": {},
   "outputs": [],
   "source": [
    "cur = con.cursor()"
   ]
  },
  {
   "cell_type": "markdown",
   "id": "59e9b445",
   "metadata": {},
   "source": [
    "create table query"
   ]
  },
  {
   "cell_type": "code",
   "execution_count": 11,
   "id": "a4eae205",
   "metadata": {},
   "outputs": [],
   "source": [
    "query=\"create table if not exists stud(eid int primary key, name text)\""
   ]
  },
  {
   "cell_type": "markdown",
   "id": "33e5c5ad",
   "metadata": {},
   "source": [
    "execute query using execute()"
   ]
  },
  {
   "cell_type": "code",
   "execution_count": 12,
   "id": "75d15662",
   "metadata": {},
   "outputs": [
    {
     "data": {
      "text/plain": [
       "<sqlite3.Cursor at 0x15417782fc0>"
      ]
     },
     "execution_count": 12,
     "metadata": {},
     "output_type": "execute_result"
    }
   ],
   "source": [
    "cur.execute(query)"
   ]
  },
  {
   "cell_type": "markdown",
   "id": "fbe28dc9",
   "metadata": {},
   "source": [
    "create another table and connect it stud table with forign key"
   ]
  },
  {
   "cell_type": "code",
   "execution_count": 13,
   "id": "40c9abaf",
   "metadata": {},
   "outputs": [],
   "source": [
    "query2 = \"create table if not exists stud_details(eid integer primary key,city text not null,mobileno number not null,FOREIGN KEY (eid) references stud(eid))\""
   ]
  },
  {
   "cell_type": "code",
   "execution_count": 21,
   "id": "24ec1691",
   "metadata": {},
   "outputs": [
    {
     "data": {
      "text/plain": [
       "<sqlite3.Cursor at 0x1fd757e23c0>"
      ]
     },
     "execution_count": 21,
     "metadata": {},
     "output_type": "execute_result"
    }
   ],
   "source": [
    "cur.execute(query2)"
   ]
  },
  {
   "cell_type": "code",
   "execution_count": 14,
   "id": "e57ce036",
   "metadata": {},
   "outputs": [],
   "source": [
    "con.commit()"
   ]
  },
  {
   "cell_type": "markdown",
   "id": "2c731977",
   "metadata": {},
   "source": [
    "insert recordes into both tables using insert record function"
   ]
  },
  {
   "cell_type": "code",
   "execution_count": 71,
   "id": "048db1d9",
   "metadata": {},
   "outputs": [],
   "source": [
    "def insertstud(n):\n",
    "    l=[]\n",
    "    query=f\"insert into stud values(?,?)\"\n",
    "       \n",
    "    for i in range(n):\n",
    "        eid=int(input(\"Enter student id:\"))\n",
    "        ename=input(\"Enter studewnt name \")\n",
    "        t=(eid,ename)\n",
    "        l.append(t)\n",
    "    cur.executemany(query,l)\n",
    "    con.commit()"
   ]
  },
  {
   "cell_type": "code",
   "execution_count": 25,
   "id": "411aaae6",
   "metadata": {},
   "outputs": [],
   "source": [
    "def insertstuddetail(n):\n",
    "    l=[]\n",
    "    query=f\"insert into stud_details values(?,?,?)\"\n",
    "    \n",
    "    for i in range(n):\n",
    "        eid=int(input(\"Enter student id:\"))\n",
    "        city=input(\"Enter studewnt city:\")\n",
    "        mobile=int(input(\"Enter mobile number:\"))\n",
    "        t=(eid,city,mobile)\n",
    "        l.append(t)\n",
    "    cur.executemany(query,l)\n",
    "    con.commit()"
   ]
  },
  {
   "cell_type": "markdown",
   "id": "3be1ccd2",
   "metadata": {},
   "source": [
    "->find record for surat city students"
   ]
  },
  {
   "cell_type": "code",
   "execution_count": 75,
   "id": "5570ae7c",
   "metadata": {},
   "outputs": [],
   "source": [
    "def selectbycityname():\n",
    "    query=f\"select stud.eid,name ,city, mobileno from stud_details inner join stud on stud.eid=stud_details.eid and city ='surat'\"\n",
    "    cur.execute(query)\n",
    "    data=cur.fetchall()\n",
    "    for i in data:\n",
    "        print(\"Student id:{}\\nStudemt name:{}\\nStudent city:{}\\nStudent mobile No:{}\\n\".format(i[0],i[1],i[2],i[3])) "
   ]
  },
  {
   "cell_type": "markdown",
   "id": "54eda0af",
   "metadata": {},
   "source": [
    "->fetch record whose city name start with 'b'"
   ]
  },
  {
   "cell_type": "code",
   "execution_count": 76,
   "id": "8b47ceda",
   "metadata": {},
   "outputs": [],
   "source": [
    "def selectbycitynamestartwith():\n",
    "    query=f\"select stud.eid,name ,city, mobileno from stud_details inner join stud on stud.eid=stud_details.eid and city like 'b%'\"\n",
    "    cur.execute(query)\n",
    "    data=cur.fetchall()\n",
    "    for i in data:\n",
    "        print(\"Student id:{}\\nStudemt name:{}\\nStudent city:{}\\nStudent mobile No:{}\\n\".format(i[0],i[1],i[2],i[3]))   "
   ]
  },
  {
   "cell_type": "markdown",
   "id": "1febf8b3",
   "metadata": {},
   "source": [
    "-> update mobile number whose city is surat"
   ]
  },
  {
   "cell_type": "code",
   "execution_count": 64,
   "id": "8ebae5f5",
   "metadata": {},
   "outputs": [],
   "source": [
    "def updatemob():\n",
    "    newmob=int(input(\"Enter new mobile Number:\"))\n",
    "    query=f\"update stud_details set mobileno={newmob} where city='surat'\"\n",
    "    cur.execute(query)\n",
    "    con.commit()"
   ]
  },
  {
   "cell_type": "markdown",
   "id": "265f75c4",
   "metadata": {},
   "source": [
    "-> call insert function for stud table"
   ]
  },
  {
   "cell_type": "code",
   "execution_count": 74,
   "id": "bdf51e2a",
   "metadata": {},
   "outputs": [
    {
     "name": "stdout",
     "output_type": "stream",
     "text": [
      "Enter student id:1\n",
      "Enter studewnt name om\n"
     ]
    },
    {
     "ename": "IntegrityError",
     "evalue": "UNIQUE constraint failed: stud.eid",
     "output_type": "error",
     "traceback": [
      "\u001b[1;31m---------------------------------------------------------------------------\u001b[0m",
      "\u001b[1;31mIntegrityError\u001b[0m                            Traceback (most recent call last)",
      "Cell \u001b[1;32mIn[74], line 1\u001b[0m\n\u001b[1;32m----> 1\u001b[0m \u001b[43minsertstud\u001b[49m\u001b[43m(\u001b[49m\u001b[38;5;241;43m1\u001b[39;49m\u001b[43m)\u001b[49m\n",
      "Cell \u001b[1;32mIn[71], line 10\u001b[0m, in \u001b[0;36minsertstud\u001b[1;34m(n)\u001b[0m\n\u001b[0;32m      8\u001b[0m     t\u001b[38;5;241m=\u001b[39m(eid,ename)\n\u001b[0;32m      9\u001b[0m     l\u001b[38;5;241m.\u001b[39mappend(t)\n\u001b[1;32m---> 10\u001b[0m \u001b[43mcur\u001b[49m\u001b[38;5;241;43m.\u001b[39;49m\u001b[43mexecutemany\u001b[49m\u001b[43m(\u001b[49m\u001b[43mquery\u001b[49m\u001b[43m,\u001b[49m\u001b[43ml\u001b[49m\u001b[43m)\u001b[49m\n\u001b[0;32m     11\u001b[0m con\u001b[38;5;241m.\u001b[39mcommit()\n",
      "\u001b[1;31mIntegrityError\u001b[0m: UNIQUE constraint failed: stud.eid"
     ]
    }
   ],
   "source": [
    "insertstud(10)"
   ]
  },
  {
   "cell_type": "markdown",
   "id": "542dfff1",
   "metadata": {},
   "source": [
    "-> call insert function for stud_details table"
   ]
  },
  {
   "cell_type": "code",
   "execution_count": null,
   "id": "efb8edcd",
   "metadata": {},
   "outputs": [],
   "source": [
    "insertstuddetail(10)"
   ]
  },
  {
   "cell_type": "markdown",
   "id": "ec02eee3",
   "metadata": {},
   "source": [
    "-> call function to fetch record where city is surat"
   ]
  },
  {
   "cell_type": "code",
   "execution_count": 77,
   "id": "bdeef9b4",
   "metadata": {},
   "outputs": [
    {
     "name": "stdout",
     "output_type": "stream",
     "text": [
      "Student id:1\n",
      "Studemt name:om\n",
      "Student city:surat\n",
      "Student mobile No:9999999999\n",
      "\n"
     ]
    }
   ],
   "source": [
    "selectbycityname()"
   ]
  },
  {
   "cell_type": "markdown",
   "id": "8f866d56",
   "metadata": {},
   "source": [
    "-> call function to fetch record where city n ame start with '[b]'"
   ]
  },
  {
   "cell_type": "code",
   "execution_count": 78,
   "id": "bf9a4b21",
   "metadata": {},
   "outputs": [],
   "source": [
    "selectbycitynamestartwith()"
   ]
  },
  {
   "cell_type": "markdown",
   "id": "a6626d0a",
   "metadata": {},
   "source": [
    "-> update mobile number where city is surat"
   ]
  },
  {
   "cell_type": "code",
   "execution_count": 66,
   "id": "9f09ed73",
   "metadata": {},
   "outputs": [
    {
     "name": "stdout",
     "output_type": "stream",
     "text": [
      "Enter new mobile Number:9999999999\n"
     ]
    }
   ],
   "source": [
    "updatemob()"
   ]
  },
  {
   "cell_type": "code",
   "execution_count": 67,
   "id": "21e3310b",
   "metadata": {},
   "outputs": [
    {
     "name": "stdout",
     "output_type": "stream",
     "text": [
      "[(1, 'om', 'surat', 9999999999)]\n",
      "Student id:1\n",
      "Studemt name:om\n",
      " Student city:surat\n",
      " Student mobile No:9999999999\n",
      "\n"
     ]
    }
   ],
   "source": []
  }
 ],
 "metadata": {
  "kernelspec": {
   "display_name": "Python 3 (ipykernel)",
   "language": "python",
   "name": "python3"
  },
  "language_info": {
   "codemirror_mode": {
    "name": "ipython",
    "version": 3
   },
   "file_extension": ".py",
   "mimetype": "text/x-python",
   "name": "python",
   "nbconvert_exporter": "python",
   "pygments_lexer": "ipython3",
   "version": "3.11.1"
  }
 },
 "nbformat": 4,
 "nbformat_minor": 5
}
