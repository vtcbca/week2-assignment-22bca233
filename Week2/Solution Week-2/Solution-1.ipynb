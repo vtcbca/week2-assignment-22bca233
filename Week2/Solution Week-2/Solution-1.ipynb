{
 "cells": [
  {
   "cell_type": "code",
   "execution_count": 3,
   "id": "4ae61ea5",
   "metadata": {},
   "outputs": [],
   "source": [
    "import sqlite3"
   ]
  },
  {
   "cell_type": "markdown",
   "id": "d70fe99b",
   "metadata": {},
   "source": [
    "create connection with sqlite and create database named \"student.db\""
   ]
  },
  {
   "cell_type": "code",
   "execution_count": 4,
   "id": "61ad6536",
   "metadata": {},
   "outputs": [],
   "source": [
    "con = sqlite3.connect(\"student.db\")"
   ]
  },
  {
   "cell_type": "markdown",
   "id": "672c60ba",
   "metadata": {},
   "source": [
    "create cursor on con object"
   ]
  },
  {
   "cell_type": "code",
   "execution_count": 5,
   "id": "fe2a4bf6",
   "metadata": {},
   "outputs": [],
   "source": [
    "cur = con.cursor()"
   ]
  },
  {
   "cell_type": "markdown",
   "id": "59e9b445",
   "metadata": {},
   "source": [
    "create table query"
   ]
  },
  {
   "cell_type": "code",
   "execution_count": 4,
   "id": "a4eae205",
   "metadata": {},
   "outputs": [],
   "source": [
    "query=\"create table if not exists stud(eid int primary key, name text)\""
   ]
  },
  {
   "cell_type": "markdown",
   "id": "33e5c5ad",
   "metadata": {},
   "source": [
    "execute query using execute()"
   ]
  },
  {
   "cell_type": "code",
   "execution_count": 5,
   "id": "75d15662",
   "metadata": {},
   "outputs": [
    {
     "data": {
      "text/plain": [
       "<sqlite3.Cursor at 0x1c00a1b38c0>"
      ]
     },
     "execution_count": 5,
     "metadata": {},
     "output_type": "execute_result"
    }
   ],
   "source": [
    "cur.execute(query)"
   ]
  },
  {
   "cell_type": "markdown",
   "id": "fbe28dc9",
   "metadata": {},
   "source": [
    "create another table and connect it stud table with forign key"
   ]
  },
  {
   "cell_type": "code",
   "execution_count": 6,
   "id": "40c9abaf",
   "metadata": {},
   "outputs": [],
   "source": [
    "query2 = \"create table if not exists stud_details(eid integer primary key,city text not null,mobileno number not null,FOREIGN KEY (eid) references stud(eid))\""
   ]
  },
  {
   "cell_type": "code",
   "execution_count": 7,
   "id": "24ec1691",
   "metadata": {},
   "outputs": [
    {
     "data": {
      "text/plain": [
       "<sqlite3.Cursor at 0x1c00a1b38c0>"
      ]
     },
     "execution_count": 7,
     "metadata": {},
     "output_type": "execute_result"
    }
   ],
   "source": [
    "cur.execute(query2)"
   ]
  },
  {
   "cell_type": "code",
   "execution_count": 8,
   "id": "e57ce036",
   "metadata": {},
   "outputs": [],
   "source": [
    "con.commit()"
   ]
  },
  {
   "cell_type": "markdown",
   "id": "2c731977",
   "metadata": {},
   "source": [
    "insert recordes into both tables using insert record function"
   ]
  },
  {
   "cell_type": "code",
   "execution_count": 9,
   "id": "048db1d9",
   "metadata": {},
   "outputs": [],
   "source": [
    "def insertstud(n):\n",
    "    l=[]\n",
    "    query=f\"insert into stud values(?,?)\"\n",
    "       \n",
    "    for i in range(n):\n",
    "        eid=int(input(\"Enter student id:\"))\n",
    "        ename=input(\"Enter studewnt name \")\n",
    "        t=(eid,ename)\n",
    "        l.append(t)\n",
    "    cur.executemany(query,l)\n",
    "    con.commit()"
   ]
  },
  {
   "cell_type": "code",
   "execution_count": 10,
   "id": "e0840291",
   "metadata": {},
   "outputs": [],
   "source": [
    "def insertstuddetail(n):\n",
    "    l=[]\n",
    "    query=f\"insert into stud_details values(?,?,?)\"\n",
    "    \n",
    "    for i in range(n):\n",
    "        eid=int(input(\"Enter student id:\"))\n",
    "        city=input(\"Enter studewnt city:\")\n",
    "        mobile=int(input(\"Enter mobile number:\"))\n",
    "        t=(eid,city,mobile)\n",
    "        l.append(t)\n",
    "    cur.executemany(query,l)\n",
    "    con.commit()"
   ]
  },
  {
   "cell_type": "markdown",
   "id": "431d5f0e",
   "metadata": {},
   "source": [
    "->find record for surat city students"
   ]
  },
  {
   "cell_type": "code",
   "execution_count": 11,
   "id": "67eb9684",
   "metadata": {},
   "outputs": [],
   "source": [
    "def selectbycityname():\n",
    "    query=f\"select stud.eid,name ,city, mobileno from stud_details inner join stud on stud.eid=stud_details.eid and city ='surat'\"\n",
    "    cur.execute(query)\n",
    "    data=cur.fetchall()\n",
    "    for i in data:\n",
    "        print(\"Student id:{}\\nStudemt name:{}\\nStudent city:{}\\nStudent mobile No:{}\\n\".format(i[0],i[1],i[2],i[3])) "
   ]
  },
  {
   "cell_type": "markdown",
   "id": "41f1a8ae",
   "metadata": {},
   "source": [
    "->fetch record whose city name start with 'b'"
   ]
  },
  {
   "cell_type": "code",
   "execution_count": 12,
   "id": "802fb05b",
   "metadata": {},
   "outputs": [],
   "source": [
    "def selectbycitynamestartwith():\n",
    "    query=f\"select stud.eid,name ,city, mobileno from stud_details inner join stud on stud.eid=stud_details.eid and city like 'b%'\"\n",
    "    cur.execute(query)\n",
    "    data=cur.fetchall()\n",
    "    for i in data:\n",
    "        print(\"Student id:{}\\nStudemt name:{}\\nStudent city:{}\\nStudent mobile No:{}\\n\".format(i[0],i[1],i[2],i[3]))   "
   ]
  },
  {
   "cell_type": "markdown",
   "id": "1e35b575",
   "metadata": {},
   "source": [
    "-> update mobile number whose city is surat"
   ]
  },
  {
   "cell_type": "code",
   "execution_count": 13,
   "id": "8b2ce506",
   "metadata": {},
   "outputs": [],
   "source": [
    "def updatemob():\n",
    "    newmob=int(input(\"Enter new mobile Number:\"))\n",
    "    query=f\"update stud_details set mobileno={newmob} where city='surat'\"\n",
    "    cur.execute(query)\n",
    "    con.commit()"
   ]
  },
  {
   "cell_type": "markdown",
   "id": "4ad8f5c6",
   "metadata": {},
   "source": [
    "-> call insert function for stud table"
   ]
  },
  {
   "cell_type": "code",
   "execution_count": 14,
   "id": "00de9e85",
   "metadata": {},
   "outputs": [
    {
     "name": "stdout",
     "output_type": "stream",
     "text": [
      "Enter student id:1\n",
      "Enter studewnt name om\n",
      "Enter student id:2\n",
      "Enter studewnt name sai\n",
      "Enter student id:3\n",
      "Enter studewnt name ram\n",
      "Enter student id:4\n",
      "Enter studewnt name radha\n",
      "Enter student id:5\n",
      "Enter studewnt name krish\n",
      "Enter student id:6\n",
      "Enter studewnt name pratham\n",
      "Enter student id:7\n",
      "Enter studewnt name vidhi\n",
      "Enter student id:8\n",
      "Enter studewnt name bhavik\n",
      "Enter student id:9\n",
      "Enter studewnt name yug\n",
      "Enter student id:10\n",
      "Enter studewnt name rahul\n"
     ]
    }
   ],
   "source": [
    "insertstud(10)"
   ]
  },
  {
   "cell_type": "markdown",
   "id": "0265340e",
   "metadata": {},
   "source": [
    "-> call insert function for stud_details table"
   ]
  },
  {
   "cell_type": "code",
   "execution_count": 15,
   "id": "b455c990",
   "metadata": {},
   "outputs": [
    {
     "name": "stdout",
     "output_type": "stream",
     "text": [
      "Enter student id:1\n",
      "Enter studewnt city:bardoli\n",
      "Enter mobile number:8754857485\n",
      "Enter student id:2\n",
      "Enter studewnt city:surat\n",
      "Enter mobile number:8544220012\n",
      "Enter student id:3\n",
      "Enter studewnt city:mandvi\n",
      "Enter mobile number:8956965874\n",
      "Enter student id:4\n",
      "Enter studewnt city:bardoli\n",
      "Enter mobile number:8745123366\n",
      "Enter student id:5\n",
      "Enter studewnt city:bharuch\n",
      "Enter mobile number:7745859620\n",
      "Enter student id:6\n",
      "Enter studewnt city:vyara\n",
      "Enter mobile number:9696548541\n",
      "Enter student id:7\n",
      "Enter studewnt city:bardoli\n",
      "Enter mobile number:9622001142\n",
      "Enter student id:8\n",
      "Enter studewnt city:surat\n",
      "Enter mobile number:6985748522\n",
      "Enter student id:9\n",
      "Enter studewnt city:bhuj\n",
      "Enter mobile number:7485696654\n",
      "Enter student id:10\n",
      "Enter studewnt city:surat\n",
      "Enter mobile number:8574552266\n"
     ]
    }
   ],
   "source": [
    "insertstuddetail(10)"
   ]
  },
  {
   "cell_type": "markdown",
   "id": "8fe084bf",
   "metadata": {},
   "source": [
    "-> call function to fetch record where city is surat"
   ]
  },
  {
   "cell_type": "code",
   "execution_count": 16,
   "id": "ed462175",
   "metadata": {},
   "outputs": [
    {
     "name": "stdout",
     "output_type": "stream",
     "text": [
      "Student id:2\n",
      "Studemt name:sai\n",
      "Student city:surat\n",
      "Student mobile No:8544220012\n",
      "\n",
      "Student id:8\n",
      "Studemt name:bhavik\n",
      "Student city:surat\n",
      "Student mobile No:6985748522\n",
      "\n",
      "Student id:10\n",
      "Studemt name:rahul\n",
      "Student city:surat\n",
      "Student mobile No:8574552266\n",
      "\n"
     ]
    }
   ],
   "source": [
    "selectbycityname()"
   ]
  },
  {
   "cell_type": "markdown",
   "id": "f30e452f",
   "metadata": {},
   "source": [
    "-> call function to fetch record where city n ame start with '[b]'"
   ]
  },
  {
   "cell_type": "code",
   "execution_count": 17,
   "id": "79008107",
   "metadata": {},
   "outputs": [
    {
     "name": "stdout",
     "output_type": "stream",
     "text": [
      "Student id:1\n",
      "Studemt name:om\n",
      "Student city:bardoli\n",
      "Student mobile No:8754857485\n",
      "\n",
      "Student id:4\n",
      "Studemt name:radha\n",
      "Student city:bardoli\n",
      "Student mobile No:8745123366\n",
      "\n",
      "Student id:5\n",
      "Studemt name:krish\n",
      "Student city:bharuch\n",
      "Student mobile No:7745859620\n",
      "\n",
      "Student id:7\n",
      "Studemt name:vidhi\n",
      "Student city:bardoli\n",
      "Student mobile No:9622001142\n",
      "\n",
      "Student id:9\n",
      "Studemt name:yug\n",
      "Student city:bhuj\n",
      "Student mobile No:7485696654\n",
      "\n"
     ]
    }
   ],
   "source": [
    "selectbycitynamestartwith()"
   ]
  },
  {
   "cell_type": "markdown",
   "id": "9062a357",
   "metadata": {},
   "source": [
    "-> update mobile number where city is surat"
   ]
  },
  {
   "cell_type": "code",
   "execution_count": 18,
   "id": "76fddafc",
   "metadata": {},
   "outputs": [
    {
     "name": "stdout",
     "output_type": "stream",
     "text": [
      "Enter new mobile Number:7485858744\n"
     ]
    }
   ],
   "source": [
    "updatemob()"
   ]
  },
  {
   "cell_type": "code",
   "execution_count": 6,
   "id": "ea95325b",
   "metadata": {},
   "outputs": [],
   "source": [
    "con.commit()"
   ]
  },
  {
   "cell_type": "markdown",
   "id": "a7ef9223",
   "metadata": {},
   "source": [
    "->close the connection with database"
   ]
  },
  {
   "cell_type": "code",
   "execution_count": 7,
   "id": "217cd083",
   "metadata": {},
   "outputs": [],
   "source": [
    "con.close()"
   ]
  }
 ],
 "metadata": {
  "kernelspec": {
   "display_name": "Python 3 (ipykernel)",
   "language": "python",
   "name": "python3"
  },
  "language_info": {
   "codemirror_mode": {
    "name": "ipython",
    "version": 3
   },
   "file_extension": ".py",
   "mimetype": "text/x-python",
   "name": "python",
   "nbconvert_exporter": "python",
   "pygments_lexer": "ipython3",
   "version": "3.11.1"
  }
 },
 "nbformat": 4,
 "nbformat_minor": 5
}
